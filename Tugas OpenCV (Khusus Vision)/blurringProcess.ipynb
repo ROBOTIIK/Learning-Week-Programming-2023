{
 "cells": [
  {
   "cell_type": "code",
   "execution_count": 51,
   "metadata": {},
   "outputs": [
    {
     "data": {
      "text/plain": [
       "True"
      ]
     },
     "execution_count": 51,
     "metadata": {},
     "output_type": "execute_result"
    }
   ],
   "source": [
    "import cv2\n",
    "import numpy as np\n",
    "\n",
    "fileGambar1 = 'Resource\\\\rusianplate1.jpg'\n",
    "\n",
    "img1 = cv2.imread(fileGambar1)\n",
    "pathlisensi = 'haarcascade_github\\\\haarcascade_russian_plate_number.xml'\n",
    "# Load the license plate detection model\n",
    "plateCascade1 = cv2.CascadeClassifier(pathlisensi)\n",
    "\n",
    "# Detect the license plate in the image\n",
    "plat_nopol1 = plateCascade1.detectMultiScale(img1, scaleFactor=1.1, minNeighbors=5)\n",
    "\n",
    "# Get the coordinates of the license plate\n",
    "for (x, y, w, h) in plat_nopol1:\n",
    "    plat_1 = img1[y:y+h, x:x+w]\n",
    "    blurredPlat1 = cv2.GaussianBlur(plat_1, (25, 25), 0)\n",
    "    img1[y:y+h, x:x+w] = blurredPlat1\n",
    "\n",
    "# Save the resulting image\n",
    "cv2.imwrite('blurred_plat1.jpg', img1)\n"
   ]
  },
  {
   "cell_type": "code",
   "execution_count": 52,
   "metadata": {},
   "outputs": [
    {
     "data": {
      "text/plain": [
       "True"
      ]
     },
     "execution_count": 52,
     "metadata": {},
     "output_type": "execute_result"
    }
   ],
   "source": [
    "import cv2\n",
    "import numpy as np\n",
    "\n",
    "fileGambar2 = 'Resource\\\\rusianplate2.jpg'\n",
    "# Load the image\n",
    "img2 = cv2.imread(fileGambar2)\n",
    "pathlisensi = 'haarcascade_github\\\\haarcascade_russian_plate_number.xml'\n",
    "# Load the license plate detection model\n",
    "plateCascade2 = cv2.CascadeClassifier(pathlisensi)\n",
    "\n",
    "# Detect the license plate in the image\n",
    "plat_nopol2 = plateCascade2.detectMultiScale(img2, scaleFactor=1.1, minNeighbors=5)\n",
    "\n",
    "# Get the coordinates of the license plate\n",
    "for (x, y, w, h) in plat_nopol2:\n",
    "    plat_2 = img2[y:y+h, x:x+w]\n",
    "    blurredPlat2 = cv2.GaussianBlur(plat_2, (23, 25), 0)\n",
    "    img2[y:y+h, x:x+w] = blurredPlat2\n",
    "\n",
    "# Save the resulting image\n",
    "cv2.imwrite('blurred_plat2.jpg', img2)"
   ]
  }
 ],
 "metadata": {
  "kernelspec": {
   "display_name": "Python 3",
   "language": "python",
   "name": "python3"
  },
  "language_info": {
   "codemirror_mode": {
    "name": "ipython",
    "version": 3
   },
   "file_extension": ".py",
   "mimetype": "text/x-python",
   "name": "python",
   "nbconvert_exporter": "python",
   "pygments_lexer": "ipython3",
   "version": "3.10.9"
  },
  "orig_nbformat": 4
 },
 "nbformat": 4,
 "nbformat_minor": 2
}
