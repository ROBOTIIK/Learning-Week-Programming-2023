{
 "cells": [
  {
   "cell_type": "code",
   "execution_count": null,
   "id": "964c4de3-11a6-4ce9-93ef-5c7d67b11bb9",
   "metadata": {},
   "outputs": [],
   "source": [
    "import cv2\n",
    "import numpy as np\n",
    "\n",
    "fileGambar1 = 'Resource\\\\rusianplate1.jpg'\n",
    "\n",
    "img1 = cv2.imread(fileGambar1)\n",
    "pathlisensi = 'haarcascade_github\\\\haarcascade_russian_plate_number.xml'\n",
    "# Load the license plate detection model\n",
    "plateCascade1 = cv2.CascadeClassifier(pathlisensi)\n",
    "\n",
    "# Detect the license plate in the image\n",
    "plat_nopol1 = plateCascade1.detectMultiScale(img1, scaleFactor=1.1, minNeighbors=5)\n",
    "\n",
    "# Get the coordinates of the license plate\n",
    "for (x, y, w, h) in plat_nopol1:\n",
    "    plat_1 = img1[y:y+h, x:x+w]\n",
    "    blurredPlat1 = cv2.GaussianBlur(plat_1, (25, 25), 0)\n",
    "    img1[y:y+h, x:x+w] = blurredPlat1\n",
    "\n",
    "# Save the resulting image\n",
    "cv2.imwrite('blurred_plat1.jpg', img1)"
   ]
  },
  {
   "cell_type": "code",
   "execution_count": null,
   "id": "e086dae7-f11b-43aa-816f-c54635891757",
   "metadata": {},
   "outputs": [],
   "source": [
    "import cv2\n",
    "import numpy as np\n",
    "\n",
    "fileGambar2 = 'Resource\\\\rusianplate2.jpg'\n",
    "# Load the image\n",
    "img2 = cv2.imread(fileGambar2)\n",
    "pathlisensi = 'haarcascade_github\\\\haarcascade_russian_plate_number.xml'\n",
    "# Load the license plate detection model\n",
    "plateCascade2 = cv2.CascadeClassifier(pathlisensi)\n",
    "\n",
    "# Detect the license plate in the image\n",
    "plat_nopol2 = plateCascade2.detectMultiScale(img2, scaleFactor=1.1, minNeighbors=5)\n",
    "\n",
    "# Get the coordinates of the license plate\n",
    "for (x, y, w, h) in plat_nopol2:\n",
    "    plat_2 = img2[y:y+h, x:x+w]\n",
    "    blurredPlat2 = cv2.GaussianBlur(plat_2, (23, 25), 0)\n",
    "    img2[y:y+h, x:x+w] = blurredPlat2\n",
    "\n",
    "# Save the resulting image\n",
    "cv2.imwrite('blurred_plat2.jpg', img2)"
   ]
  }
 ],
 "metadata": {
  "kernelspec": {
   "display_name": "Python 3 (ipykernel)",
   "language": "python",
   "name": "python3"
  },
  "language_info": {
   "codemirror_mode": {
    "name": "ipython",
    "version": 3
   },
   "file_extension": ".py",
   "mimetype": "text/x-python",
   "name": "python",
   "nbconvert_exporter": "python",
   "pygments_lexer": "ipython3",
   "version": "3.9.13"
  }
 },
 "nbformat": 4,
 "nbformat_minor": 5
}
